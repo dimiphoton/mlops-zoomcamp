{
 "cells": [
  {
   "cell_type": "code",
   "execution_count": 29,
   "id": "b2bd82d7",
   "metadata": {},
   "outputs": [
    {
     "name": "stdout",
     "output_type": "stream",
     "text": [
      "Python 3.9.19\n"
     ]
    }
   ],
   "source": [
    "!python -V"
   ]
  },
  {
   "cell_type": "code",
   "execution_count": 30,
   "id": "41062d8a",
   "metadata": {},
   "outputs": [],
   "source": [
    "import pandas as pd"
   ]
  },
  {
   "cell_type": "code",
   "execution_count": 31,
   "id": "c984c564",
   "metadata": {},
   "outputs": [],
   "source": [
    "import pickle"
   ]
  },
  {
   "cell_type": "code",
   "execution_count": 32,
   "id": "4add538c",
   "metadata": {},
   "outputs": [],
   "source": [
    "import seaborn as sns\n",
    "import matplotlib.pyplot as plt"
   ]
  },
  {
   "cell_type": "code",
   "execution_count": 33,
   "id": "8b135c2b",
   "metadata": {},
   "outputs": [],
   "source": [
    "from sklearn.feature_extraction import DictVectorizer\n",
    "from sklearn.linear_model import LinearRegression\n",
    "from sklearn.linear_model import Lasso\n",
    "from sklearn.linear_model import Ridge\n",
    "\n",
    "from sklearn.metrics import mean_squared_error"
   ]
  },
  {
   "cell_type": "code",
   "execution_count": 34,
   "id": "1206f51d",
   "metadata": {},
   "outputs": [
    {
     "name": "stdout",
     "output_type": "stream",
     "text": [
      "c:\\Users\\DimiP\\Documents\\GitHub\\0 REPOS My Learning\\mlops-zoomcamp\\02-experiment-tracking\n"
     ]
    }
   ],
   "source": [
    "import os\n",
    "\n",
    "current_directory = os.getcwd()\n",
    "print(current_directory)"
   ]
  },
  {
   "cell_type": "code",
   "execution_count": 35,
   "id": "4e59f6b1",
   "metadata": {},
   "outputs": [
    {
     "data": {
      "text/plain": [
       "<Popen: returncode: None args: ['mlflow', 'ui', '--backend-store-uri', 'sqli...>"
      ]
     },
     "execution_count": 35,
     "metadata": {},
     "output_type": "execute_result"
    }
   ],
   "source": [
    "import subprocess\n",
    "MLFLOW_TRACKING_URI = \"sqlite:///mlflow.db\"\n",
    "subprocess.Popen([\"mlflow\", \"ui\", \"--backend-store-uri\", MLFLOW_TRACKING_URI])"
   ]
  },
  {
   "cell_type": "code",
   "execution_count": 37,
   "id": "dd49fa07",
   "metadata": {},
   "outputs": [],
   "source": [
    "import mlflow\n",
    "from mlflow.tracking import MlflowClient\n",
    "\n",
    "#mlflow.set_tracking_uri(MLFLOW_TRACKING_URI)\n",
    "#client = MlflowClient(tracking_uri=MLFLOW_TRACKING_URI)\n"
   ]
  },
  {
   "cell_type": "code",
   "execution_count": 39,
   "id": "1464985f",
   "metadata": {},
   "outputs": [
    {
     "name": "stderr",
     "output_type": "stream",
     "text": [
      "2024/06/06 23:56:17 INFO mlflow.tracking.fluent: Experiment with name 'nyc-taxi-experiment3' does not exist. Creating a new experiment.\n"
     ]
    },
    {
     "data": {
      "text/plain": [
       "<Experiment: artifact_location=('file:///c:/Users/DimiP/Documents/GitHub/0 REPOS My '\n",
       " 'Learning/mlops-zoomcamp/02-experiment-tracking/mlruns/6'), creation_time=1717710977771, experiment_id='6', last_update_time=1717710977771, lifecycle_stage='active', name='nyc-taxi-experiment3', tags={}>"
      ]
     },
     "execution_count": 39,
     "metadata": {},
     "output_type": "execute_result"
    }
   ],
   "source": [
    "# marche pas :(\n",
    "\n",
    "\n",
    "mlflow.set_tracking_uri(\"sqlite:///mlflow.db\")\n",
    "mlflow.set_experiment(\"nyc-taxi-experiment3\")"
   ]
  },
  {
   "cell_type": "code",
   "execution_count": 40,
   "id": "f9e6479e",
   "metadata": {},
   "outputs": [],
   "source": [
    "def read_dataframe(filename):\n",
    "    df = pd.read_parquet(filename)\n",
    "\n",
    "    df.tpep_dropoff_datetime = pd.to_datetime(df.tpep_dropoff_datetime)\n",
    "    df.tpep_pickup_datetime = pd.to_datetime(df.tpep_pickup_datetime)\n",
    "\n",
    "    df['duration'] = df.tpep_dropoff_datetime - df.tpep_pickup_datetime\n",
    "    df.duration = df.duration.apply(lambda td: td.total_seconds() / 60)\n",
    "\n",
    "    df = df[(df.duration >= 1) & (df.duration <= 60)]\n",
    "\n",
    "    categorical = ['PULocationID', 'DOLocationID']\n",
    "    df[categorical] = df[categorical].astype(str)\n",
    "    \n",
    "    return df"
   ]
  },
  {
   "cell_type": "code",
   "execution_count": 41,
   "id": "48d1c815",
   "metadata": {},
   "outputs": [],
   "source": [
    "from pathlib import Path\n",
    "\n",
    "folder_path = Path(\"../01-intro/data\")\n",
    "\n",
    "parquet_files = [f for f in folder_path.iterdir() if f.is_file() and f.suffix == \".parquet\"]\n",
    "\n",
    "# open first file as df\n",
    "\n",
    "\n"
   ]
  },
  {
   "cell_type": "code",
   "execution_count": 42,
   "id": "8029eba0",
   "metadata": {},
   "outputs": [],
   "source": [
    "df_train = read_dataframe(parquet_files[0])[0:1000]\n",
    "df_val = read_dataframe(parquet_files[1])[0:1000]"
   ]
  },
  {
   "cell_type": "code",
   "execution_count": 43,
   "id": "f6f2f0eb",
   "metadata": {},
   "outputs": [
    {
     "data": {
      "text/plain": [
       "(1000, 1000)"
      ]
     },
     "execution_count": 43,
     "metadata": {},
     "output_type": "execute_result"
    }
   ],
   "source": [
    "len(df_train), len(df_val)"
   ]
  },
  {
   "cell_type": "code",
   "execution_count": 44,
   "id": "951d51ef",
   "metadata": {},
   "outputs": [],
   "source": [
    "df_train['PU_DO'] = df_train['PULocationID'] + '_' + df_train['DOLocationID']\n",
    "df_val['PU_DO'] = df_val['PULocationID'] + '_' + df_val['DOLocationID']"
   ]
  },
  {
   "cell_type": "code",
   "execution_count": 45,
   "id": "c5cbfc25",
   "metadata": {},
   "outputs": [],
   "source": [
    "categorical = ['PU_DO'] #'PULocationID', 'DOLocationID']\n",
    "numerical = ['trip_distance']\n",
    "\n",
    "dv = DictVectorizer()\n",
    "\n",
    "train_dicts = df_train[categorical + numerical].to_dict(orient='records')\n",
    "X_train = dv.fit_transform(train_dicts)\n",
    "\n",
    "val_dicts = df_val[categorical + numerical].to_dict(orient='records')\n",
    "X_val = dv.transform(val_dicts)"
   ]
  },
  {
   "cell_type": "code",
   "execution_count": 46,
   "id": "1e9fb68b",
   "metadata": {},
   "outputs": [],
   "source": [
    "target = 'duration'\n",
    "y_train = df_train[target].values\n",
    "y_val = df_val[target].values"
   ]
  },
  {
   "cell_type": "code",
   "execution_count": 47,
   "id": "429e2394",
   "metadata": {},
   "outputs": [
    {
     "name": "stderr",
     "output_type": "stream",
     "text": [
      "c:\\Users\\DimiP\\miniconda3\\envs\\exp-tracking_env\\lib\\site-packages\\sklearn\\metrics\\_regression.py:492: FutureWarning: 'squared' is deprecated in version 1.4 and will be removed in 1.6. To calculate the root mean squared error, use the function'root_mean_squared_error'.\n",
      "  warnings.warn(\n"
     ]
    },
    {
     "data": {
      "text/plain": [
       "6.375537699392879"
      ]
     },
     "execution_count": 47,
     "metadata": {},
     "output_type": "execute_result"
    }
   ],
   "source": [
    "lr = LinearRegression()\n",
    "lr.fit(X_train, y_train)\n",
    "\n",
    "y_pred = lr.predict(X_val)\n",
    "\n",
    "mean_squared_error(y_val, y_pred, squared=False)"
   ]
  },
  {
   "cell_type": "code",
   "execution_count": 48,
   "id": "22bf6f8b",
   "metadata": {},
   "outputs": [],
   "source": [
    "# open lin_reg.bin in parent folder /01-intro/models\n",
    "\n",
    "with open('../01-intro/models/lin_reg.bin', 'wb') as f_out:\n",
    "    pickle.dump((dv, lr), f_out)"
   ]
  },
  {
   "cell_type": "code",
   "execution_count": 51,
   "id": "a4999b94",
   "metadata": {},
   "outputs": [
    {
     "name": "stderr",
     "output_type": "stream",
     "text": [
      "c:\\Users\\DimiP\\miniconda3\\envs\\exp-tracking_env\\lib\\site-packages\\sklearn\\metrics\\_regression.py:492: FutureWarning: 'squared' is deprecated in version 1.4 and will be removed in 1.6. To calculate the root mean squared error, use the function'root_mean_squared_error'.\n",
      "  warnings.warn(\n"
     ]
    }
   ],
   "source": [
    "with mlflow.start_run():\n",
    "\n",
    "    mlflow.set_tag(\"developer\", \"Dimitri\")\n",
    "\n",
    "    mlflow.log_param(\"train-data-path\", \"./data/green_tripdata_2021-01.csv\")\n",
    "    mlflow.log_param(\"valid-data-path\", \"./data/green_tripdata_2021-02.csv\")\n",
    "\n",
    "    alpha = 0.1\n",
    "    mlflow.log_param(\"alpha\", alpha)\n",
    "    lr = Lasso(alpha)\n",
    "    lr.fit(X_train, y_train)\n",
    "\n",
    "    y_pred = lr.predict(X_val)\n",
    "    rmse = mean_squared_error(y_val, y_pred, squared=False)\n",
    "    mlflow.log_metric(\"rmse\", rmse)\n",
    "\n",
    "    mlflow.log_artifact(local_path=\"../01-intro/models/lin_reg.bin\", artifact_path=\"models_pickle\")"
   ]
  },
  {
   "cell_type": "code",
   "execution_count": 52,
   "id": "5f56e97b",
   "metadata": {},
   "outputs": [],
   "source": [
    "import xgboost as xgb"
   ]
  },
  {
   "cell_type": "code",
   "execution_count": 53,
   "id": "907dc6a2",
   "metadata": {},
   "outputs": [],
   "source": [
    "from hyperopt import fmin, tpe, hp, STATUS_OK, Trials\n",
    "from hyperopt.pyll import scope"
   ]
  },
  {
   "cell_type": "code",
   "execution_count": 54,
   "id": "091ab328",
   "metadata": {},
   "outputs": [],
   "source": [
    "train = xgb.DMatrix(X_train, label=y_train)\n",
    "valid = xgb.DMatrix(X_val, label=y_val)"
   ]
  },
  {
   "cell_type": "code",
   "execution_count": 55,
   "id": "c2d84b26",
   "metadata": {},
   "outputs": [],
   "source": [
    "def objective(params):\n",
    "    with mlflow.start_run():\n",
    "        mlflow.set_tag(\"model\", \"xgboost\")\n",
    "        mlflow.log_params(params)\n",
    "        booster = xgb.train(\n",
    "            params=params,\n",
    "            dtrain=train,\n",
    "            num_boost_round=1000,\n",
    "            evals=[(valid, 'validation')],\n",
    "            early_stopping_rounds=50\n",
    "        )\n",
    "        y_pred = booster.predict(valid)\n",
    "        rmse = mean_squared_error(y_val, y_pred, squared=False)\n",
    "        mlflow.log_metric(\"rmse\", rmse)\n",
    "\n",
    "    return {'loss': rmse, 'status': STATUS_OK}"
   ]
  },
  {
   "cell_type": "code",
   "execution_count": 57,
   "id": "6b1f77f5",
   "metadata": {},
   "outputs": [
    {
     "name": "stdout",
     "output_type": "stream",
     "text": [
      "  0%|          | 0/5 [00:00<?, ?trial/s, best loss=?]"
     ]
    },
    {
     "name": "stdout",
     "output_type": "stream",
     "text": [
      "[0]\tvalidation-rmse:7.64379                          \n",
      "[1]\tvalidation-rmse:6.56073                          \n",
      "[2]\tvalidation-rmse:5.98100                          \n",
      "[3]\tvalidation-rmse:5.77917                          \n",
      "[4]\tvalidation-rmse:5.67388                          \n",
      "[5]\tvalidation-rmse:5.69406                          \n",
      "[6]\tvalidation-rmse:5.74340                          \n",
      "[7]\tvalidation-rmse:5.78164                          \n",
      "[8]\tvalidation-rmse:5.85521                          \n",
      "[9]\tvalidation-rmse:5.87734                          \n",
      "[10]\tvalidation-rmse:5.91116                         \n",
      "[11]\tvalidation-rmse:5.93262                         \n",
      "  0%|          | 0/5 [00:00<?, ?trial/s, best loss=?]"
     ]
    },
    {
     "name": "stderr",
     "output_type": "stream",
     "text": [
      "c:\\Users\\DimiP\\miniconda3\\envs\\exp-tracking_env\\lib\\site-packages\\xgboost\\core.py:160: UserWarning: [00:33:31] WARNING: C:\\buildkite-agent\\builds\\buildkite-windows-cpu-autoscaling-group-i-0b3782d1791676daf-1\\xgboost\\xgboost-ci-windows\\src\\objective\\regression_obj.cu:209: reg:linear is now deprecated in favor of reg:squarederror.\n",
      "  warnings.warn(smsg, UserWarning)\n",
      "\n"
     ]
    },
    {
     "name": "stdout",
     "output_type": "stream",
     "text": [
      "[12]\tvalidation-rmse:5.96315                         \n",
      "[13]\tvalidation-rmse:6.00220                         \n",
      "[14]\tvalidation-rmse:6.00194                         \n",
      "[15]\tvalidation-rmse:6.00030                         \n",
      "[16]\tvalidation-rmse:6.03430                         \n",
      "[17]\tvalidation-rmse:6.04510                         \n",
      "[18]\tvalidation-rmse:6.04939                         \n",
      "[19]\tvalidation-rmse:6.06491                         \n",
      "[20]\tvalidation-rmse:6.05901                         \n",
      "[21]\tvalidation-rmse:6.06358                         \n",
      "[22]\tvalidation-rmse:6.07085                         \n",
      "[23]\tvalidation-rmse:6.08500                         \n",
      "[24]\tvalidation-rmse:6.07116                         \n",
      "[25]\tvalidation-rmse:6.08886                         \n",
      "[26]\tvalidation-rmse:6.10516                         \n",
      "[27]\tvalidation-rmse:6.11010                         \n",
      "[28]\tvalidation-rmse:6.10363                         \n",
      "[29]\tvalidation-rmse:6.10993                         \n",
      "[30]\tvalidation-rmse:6.11880                         \n",
      "[31]\tvalidation-rmse:6.11306                         \n",
      "[32]\tvalidation-rmse:6.11755                         \n",
      "[33]\tvalidation-rmse:6.12045                         \n",
      "[34]\tvalidation-rmse:6.12373                         \n",
      "[35]\tvalidation-rmse:6.13593                         \n",
      "[36]\tvalidation-rmse:6.15694                         \n",
      "[37]\tvalidation-rmse:6.14564                         \n",
      "[38]\tvalidation-rmse:6.14870                         \n",
      "[39]\tvalidation-rmse:6.15825                         \n",
      "[40]\tvalidation-rmse:6.15465                         \n",
      "[41]\tvalidation-rmse:6.15794                         \n",
      "[42]\tvalidation-rmse:6.15910                         \n",
      "[43]\tvalidation-rmse:6.16174                         \n",
      "[44]\tvalidation-rmse:6.16874                         \n",
      "[45]\tvalidation-rmse:6.17324                         \n",
      "[46]\tvalidation-rmse:6.19351                         \n",
      "[47]\tvalidation-rmse:6.18702                         \n",
      "[48]\tvalidation-rmse:6.19025                         \n",
      "[49]\tvalidation-rmse:6.19044                         \n",
      "[50]\tvalidation-rmse:6.20441                         \n",
      "[51]\tvalidation-rmse:6.20365                         \n",
      "[52]\tvalidation-rmse:6.20716                         \n",
      "[53]\tvalidation-rmse:6.21219                         \n",
      "[54]\tvalidation-rmse:6.21588                         \n",
      "[0]\tvalidation-rmse:7.07580                                                  \n",
      "[1]\tvalidation-rmse:6.03408                                                  \n",
      "[2]\tvalidation-rmse:5.69556                                                  \n",
      "                                                                             \r"
     ]
    },
    {
     "name": "stderr",
     "output_type": "stream",
     "text": [
      "c:\\Users\\DimiP\\miniconda3\\envs\\exp-tracking_env\\lib\\site-packages\\sklearn\\metrics\\_regression.py:492: FutureWarning: 'squared' is deprecated in version 1.4 and will be removed in 1.6. To calculate the root mean squared error, use the function'root_mean_squared_error'.\n",
      "  warnings.warn(\n",
      "\n",
      "c:\\Users\\DimiP\\miniconda3\\envs\\exp-tracking_env\\lib\\site-packages\\xgboost\\core.py:160: UserWarning: [00:33:32] WARNING: C:\\buildkite-agent\\builds\\buildkite-windows-cpu-autoscaling-group-i-0b3782d1791676daf-1\\xgboost\\xgboost-ci-windows\\src\\objective\\regression_obj.cu:209: reg:linear is now deprecated in favor of reg:squarederror.\n",
      "  warnings.warn(smsg, UserWarning)\n",
      "\n"
     ]
    },
    {
     "name": "stdout",
     "output_type": "stream",
     "text": [
      "[3]\tvalidation-rmse:5.69738\n",
      "[4]\tvalidation-rmse:5.76254                                                  \n",
      "[5]\tvalidation-rmse:5.78585                                                  \n",
      "[6]\tvalidation-rmse:5.87343                                                  \n",
      "[7]\tvalidation-rmse:5.89247                                                  \n",
      "[8]\tvalidation-rmse:5.92367                                                  \n",
      "[9]\tvalidation-rmse:5.99328                                                  \n",
      "[10]\tvalidation-rmse:5.98008                                                 \n",
      "[11]\tvalidation-rmse:6.02102                                                 \n",
      "[12]\tvalidation-rmse:6.01312                                                 \n",
      "[13]\tvalidation-rmse:6.01109                                                 \n",
      "[14]\tvalidation-rmse:6.03935                                                 \n",
      "[15]\tvalidation-rmse:6.02962                                                 \n",
      "[16]\tvalidation-rmse:6.06351                                                 \n",
      "[17]\tvalidation-rmse:6.05886                                                 \n",
      "[18]\tvalidation-rmse:6.08399                                                 \n",
      "[19]\tvalidation-rmse:6.08495                                                 \n",
      "[20]\tvalidation-rmse:6.08316                                                 \n",
      "[21]\tvalidation-rmse:6.08595                                                 \n",
      "[22]\tvalidation-rmse:6.08590                                                 \n",
      "[23]\tvalidation-rmse:6.10866                                                 \n",
      "[24]\tvalidation-rmse:6.09922                                                 \n",
      "[25]\tvalidation-rmse:6.12063                                                 \n",
      "[26]\tvalidation-rmse:6.09491                                                 \n",
      "[27]\tvalidation-rmse:6.12148                                                 \n",
      "[28]\tvalidation-rmse:6.12919                                                 \n",
      "[29]\tvalidation-rmse:6.12890                                                 \n",
      "[30]\tvalidation-rmse:6.13150                                                 \n",
      "[31]\tvalidation-rmse:6.13511                                                 \n",
      "[32]\tvalidation-rmse:6.14433                                                 \n",
      "[33]\tvalidation-rmse:6.15421                                                 \n",
      "[34]\tvalidation-rmse:6.15440                                                 \n",
      "[35]\tvalidation-rmse:6.15314                                                 \n",
      "[36]\tvalidation-rmse:6.16874                                                 \n",
      "[37]\tvalidation-rmse:6.16079                                                 \n",
      "[38]\tvalidation-rmse:6.18118                                                 \n",
      "[39]\tvalidation-rmse:6.18830                                                 \n",
      "[40]\tvalidation-rmse:6.17936                                                 \n",
      "[41]\tvalidation-rmse:6.18565                                                 \n",
      "[42]\tvalidation-rmse:6.19989                                                 \n",
      "[43]\tvalidation-rmse:6.20163                                                 \n",
      "[44]\tvalidation-rmse:6.21034                                                 \n",
      "[45]\tvalidation-rmse:6.20971                                                 \n",
      "[46]\tvalidation-rmse:6.21433                                                 \n",
      "[47]\tvalidation-rmse:6.22343                                                 \n",
      "[48]\tvalidation-rmse:6.23347                                                 \n",
      "[49]\tvalidation-rmse:6.22322                                                 \n",
      "[50]\tvalidation-rmse:6.23023                                                 \n",
      "[51]\tvalidation-rmse:6.24067                                                 \n",
      "[52]\tvalidation-rmse:6.23070                                                 \n",
      "[0]\tvalidation-rmse:8.70947                                                  \n",
      "[1]\tvalidation-rmse:8.10932                                                  \n",
      "[2]\tvalidation-rmse:7.60370                                                  \n",
      " 40%|████      | 2/5 [00:01<00:02,  1.24trial/s, best loss: 6.21587731647971]"
     ]
    },
    {
     "name": "stderr",
     "output_type": "stream",
     "text": [
      "c:\\Users\\DimiP\\miniconda3\\envs\\exp-tracking_env\\lib\\site-packages\\sklearn\\metrics\\_regression.py:492: FutureWarning: 'squared' is deprecated in version 1.4 and will be removed in 1.6. To calculate the root mean squared error, use the function'root_mean_squared_error'.\n",
      "  warnings.warn(\n",
      "\n",
      "c:\\Users\\DimiP\\miniconda3\\envs\\exp-tracking_env\\lib\\site-packages\\xgboost\\core.py:160: UserWarning: [00:33:33] WARNING: C:\\buildkite-agent\\builds\\buildkite-windows-cpu-autoscaling-group-i-0b3782d1791676daf-1\\xgboost\\xgboost-ci-windows\\src\\objective\\regression_obj.cu:209: reg:linear is now deprecated in favor of reg:squarederror.\n",
      "  warnings.warn(smsg, UserWarning)\n",
      "\n"
     ]
    },
    {
     "name": "stdout",
     "output_type": "stream",
     "text": [
      "[3]\tvalidation-rmse:7.18532                                                  \n",
      "[4]\tvalidation-rmse:6.84238                                                  \n",
      "[5]\tvalidation-rmse:6.56597                                                  \n",
      "[6]\tvalidation-rmse:6.34979                                                  \n",
      "[7]\tvalidation-rmse:6.18169                                                  \n",
      "[8]\tvalidation-rmse:6.05438                                                  \n",
      "[9]\tvalidation-rmse:5.96262                                                  \n",
      "[10]\tvalidation-rmse:5.89816                                                 \n",
      "[11]\tvalidation-rmse:5.85575                                                 \n",
      "[12]\tvalidation-rmse:5.83294                                                 \n",
      "[13]\tvalidation-rmse:5.81795                                                 \n",
      "[14]\tvalidation-rmse:5.80760                                                 \n",
      "[15]\tvalidation-rmse:5.81439                                                 \n",
      "[16]\tvalidation-rmse:5.82083                                                 \n",
      "[17]\tvalidation-rmse:5.83001                                                 \n",
      "[18]\tvalidation-rmse:5.84399                                                 \n",
      "[19]\tvalidation-rmse:5.85669                                                 \n",
      "[20]\tvalidation-rmse:5.87348                                                 \n",
      "[21]\tvalidation-rmse:5.89120                                                 \n",
      "[22]\tvalidation-rmse:5.90585                                                 \n",
      "[23]\tvalidation-rmse:5.92244                                                 \n",
      "[24]\tvalidation-rmse:5.93425                                                 \n",
      "[25]\tvalidation-rmse:5.95725                                                 \n",
      "[26]\tvalidation-rmse:5.97389                                                 \n",
      "[27]\tvalidation-rmse:5.99006                                                 \n",
      "[28]\tvalidation-rmse:6.01112                                                 \n",
      "[29]\tvalidation-rmse:6.02551                                                 \n",
      "[30]\tvalidation-rmse:6.03618                                                 \n",
      "[31]\tvalidation-rmse:6.04638                                                 \n",
      "[32]\tvalidation-rmse:6.05777                                                 \n",
      "[33]\tvalidation-rmse:6.06769                                                 \n",
      "[34]\tvalidation-rmse:6.07716                                                 \n",
      "[35]\tvalidation-rmse:6.08552                                                 \n",
      "[36]\tvalidation-rmse:6.09426                                                 \n",
      "[37]\tvalidation-rmse:6.10023                                                 \n",
      "[38]\tvalidation-rmse:6.11308                                                 \n",
      "[39]\tvalidation-rmse:6.11413                                                 \n",
      "[40]\tvalidation-rmse:6.12446                                                 \n",
      "[41]\tvalidation-rmse:6.12425                                                 \n",
      "[42]\tvalidation-rmse:6.13220                                                 \n",
      "[43]\tvalidation-rmse:6.13368                                                 \n",
      "[44]\tvalidation-rmse:6.14179                                                 \n",
      "[45]\tvalidation-rmse:6.15063                                                 \n",
      "[46]\tvalidation-rmse:6.15752                                                 \n",
      "[47]\tvalidation-rmse:6.15951                                                 \n",
      "[48]\tvalidation-rmse:6.16736                                                 \n",
      "[49]\tvalidation-rmse:6.16852                                                 \n",
      "[50]\tvalidation-rmse:6.17620                                                 \n",
      "[51]\tvalidation-rmse:6.18261                                                 \n",
      "[52]\tvalidation-rmse:6.19048                                                 \n",
      "[53]\tvalidation-rmse:6.19210                                                 \n",
      "[54]\tvalidation-rmse:6.19776                                                 \n",
      "[55]\tvalidation-rmse:6.19892                                                 \n",
      "[56]\tvalidation-rmse:6.19974                                                 \n",
      "[57]\tvalidation-rmse:6.20416                                                 \n",
      "[58]\tvalidation-rmse:6.20609                                                 \n",
      "[59]\tvalidation-rmse:6.20889                                                 \n",
      "[60]\tvalidation-rmse:6.20887                                                 \n",
      "[61]\tvalidation-rmse:6.21400                                                 \n",
      "[62]\tvalidation-rmse:6.21425                                                 \n",
      "[63]\tvalidation-rmse:6.21919                                                 \n",
      " 60%|██████    | 3/5 [00:02<00:01,  1.12trial/s, best loss: 6.21587731647971]"
     ]
    },
    {
     "name": "stderr",
     "output_type": "stream",
     "text": [
      "c:\\Users\\DimiP\\miniconda3\\envs\\exp-tracking_env\\lib\\site-packages\\sklearn\\metrics\\_regression.py:492: FutureWarning: 'squared' is deprecated in version 1.4 and will be removed in 1.6. To calculate the root mean squared error, use the function'root_mean_squared_error'.\n",
      "  warnings.warn(\n",
      "\n",
      "c:\\Users\\DimiP\\miniconda3\\envs\\exp-tracking_env\\lib\\site-packages\\xgboost\\core.py:160: UserWarning: [00:33:34] WARNING: C:\\buildkite-agent\\builds\\buildkite-windows-cpu-autoscaling-group-i-0b3782d1791676daf-1\\xgboost\\xgboost-ci-windows\\src\\objective\\regression_obj.cu:209: reg:linear is now deprecated in favor of reg:squarederror.\n",
      "  warnings.warn(smsg, UserWarning)\n",
      "\n"
     ]
    },
    {
     "name": "stdout",
     "output_type": "stream",
     "text": [
      "[0]\tvalidation-rmse:8.70768                                                  \n",
      "[1]\tvalidation-rmse:8.03299                                                  \n",
      "[2]\tvalidation-rmse:7.49333                                                  \n",
      "[3]\tvalidation-rmse:7.03820                                                  \n",
      "[4]\tvalidation-rmse:6.68390                                                  \n",
      "[5]\tvalidation-rmse:6.35971                                                  \n",
      "[6]\tvalidation-rmse:6.10912                                                  \n",
      "[7]\tvalidation-rmse:5.86425                                                  \n",
      "[8]\tvalidation-rmse:5.65348                                                  \n",
      "[9]\tvalidation-rmse:5.51570                                                  \n",
      "[10]\tvalidation-rmse:5.42146                                                 \n",
      "[11]\tvalidation-rmse:5.34421                                                 \n",
      "[12]\tvalidation-rmse:5.28510                                                 \n",
      "[13]\tvalidation-rmse:5.25949                                                 \n",
      "[14]\tvalidation-rmse:5.22333                                                 \n",
      "[15]\tvalidation-rmse:5.18594                                                 \n",
      "[16]\tvalidation-rmse:5.17596                                                 \n",
      "[17]\tvalidation-rmse:5.16721                                                 \n",
      "[18]\tvalidation-rmse:5.16380                                                 \n",
      "[19]\tvalidation-rmse:5.17295                                                 \n",
      "[20]\tvalidation-rmse:5.16599                                                 \n",
      "[21]\tvalidation-rmse:5.17634                                                 \n",
      "[22]\tvalidation-rmse:5.19227                                                 \n",
      "[23]\tvalidation-rmse:5.19165                                                 \n",
      "[24]\tvalidation-rmse:5.19554                                                 \n",
      "[25]\tvalidation-rmse:5.20189                                                 \n",
      "[26]\tvalidation-rmse:5.20038                                                 \n",
      "[27]\tvalidation-rmse:5.21910                                                 \n",
      "[28]\tvalidation-rmse:5.22019                                                 \n",
      "[29]\tvalidation-rmse:5.22356                                                 \n",
      "[30]\tvalidation-rmse:5.23353                                                 \n",
      "[31]\tvalidation-rmse:5.23615                                                 \n",
      "[32]\tvalidation-rmse:5.24336                                                 \n",
      "[33]\tvalidation-rmse:5.25010                                                 \n",
      "[34]\tvalidation-rmse:5.25852                                                 \n",
      "[35]\tvalidation-rmse:5.25977                                                 \n",
      "[36]\tvalidation-rmse:5.26461                                                 \n",
      "[37]\tvalidation-rmse:5.27003                                                 \n",
      "[38]\tvalidation-rmse:5.27500                                                 \n",
      "[39]\tvalidation-rmse:5.28125                                                 \n",
      "[40]\tvalidation-rmse:5.28551                                                 \n",
      "[41]\tvalidation-rmse:5.28788                                                 \n",
      "[42]\tvalidation-rmse:5.28992                                                 \n",
      "[43]\tvalidation-rmse:5.29393                                                 \n",
      "[44]\tvalidation-rmse:5.30117                                                 \n",
      "[45]\tvalidation-rmse:5.30836                                                 \n",
      "[46]\tvalidation-rmse:5.31374                                                 \n",
      "[47]\tvalidation-rmse:5.31688                                                 \n",
      "[48]\tvalidation-rmse:5.31478                                                 \n",
      "[49]\tvalidation-rmse:5.31619                                                 \n",
      "[50]\tvalidation-rmse:5.31959                                                 \n",
      "[51]\tvalidation-rmse:5.32266                                                 \n",
      "[52]\tvalidation-rmse:5.32678                                                 \n",
      "[53]\tvalidation-rmse:5.32864                                                 \n",
      "[54]\tvalidation-rmse:5.33051                                                 \n",
      "[55]\tvalidation-rmse:5.33072                                                 \n",
      "[56]\tvalidation-rmse:5.33367                                                 \n",
      "[57]\tvalidation-rmse:5.33426                                                 \n",
      "[58]\tvalidation-rmse:5.33567                                                 \n",
      "[59]\tvalidation-rmse:5.33621                                                 \n",
      "[60]\tvalidation-rmse:5.33812                                                 \n",
      "[61]\tvalidation-rmse:5.33876                                                 \n",
      "[62]\tvalidation-rmse:5.33913                                                 \n",
      "[63]\tvalidation-rmse:5.33940                                                 \n",
      "[64]\tvalidation-rmse:5.33978                                                 \n",
      "[65]\tvalidation-rmse:5.34013                                                 \n",
      "[66]\tvalidation-rmse:5.34036                                                 \n",
      "[67]\tvalidation-rmse:5.34169                                                 \n",
      "[68]\tvalidation-rmse:5.34189                                                 \n",
      " 80%|████████  | 4/5 [00:04<00:01,  1.41s/trial, best loss: 5.3418879008786755]"
     ]
    },
    {
     "name": "stderr",
     "output_type": "stream",
     "text": [
      "c:\\Users\\DimiP\\miniconda3\\envs\\exp-tracking_env\\lib\\site-packages\\sklearn\\metrics\\_regression.py:492: FutureWarning: 'squared' is deprecated in version 1.4 and will be removed in 1.6. To calculate the root mean squared error, use the function'root_mean_squared_error'.\n",
      "  warnings.warn(\n",
      "\n",
      "c:\\Users\\DimiP\\miniconda3\\envs\\exp-tracking_env\\lib\\site-packages\\xgboost\\core.py:160: UserWarning: [00:33:36] WARNING: C:\\buildkite-agent\\builds\\buildkite-windows-cpu-autoscaling-group-i-0b3782d1791676daf-1\\xgboost\\xgboost-ci-windows\\src\\objective\\regression_obj.cu:209: reg:linear is now deprecated in favor of reg:squarederror.\n",
      "  warnings.warn(smsg, UserWarning)\n",
      "\n"
     ]
    },
    {
     "name": "stdout",
     "output_type": "stream",
     "text": [
      "[0]\tvalidation-rmse:8.65924                                                    \n",
      "[1]\tvalidation-rmse:8.02427                                                    \n",
      "[2]\tvalidation-rmse:7.49616                                                    \n",
      "[3]\tvalidation-rmse:7.02544                                                    \n",
      "[4]\tvalidation-rmse:6.61505                                                    \n",
      "[5]\tvalidation-rmse:6.29341                                                    \n",
      "[6]\tvalidation-rmse:6.03367                                                    \n",
      "[7]\tvalidation-rmse:5.79104                                                    \n",
      "[8]\tvalidation-rmse:5.60926                                                    \n",
      "[9]\tvalidation-rmse:5.48532                                                    \n",
      "[10]\tvalidation-rmse:5.38066                                                   \n",
      "[11]\tvalidation-rmse:5.30440                                                   \n",
      "[12]\tvalidation-rmse:5.23323                                                   \n",
      "[13]\tvalidation-rmse:5.17704                                                   \n",
      "[14]\tvalidation-rmse:5.14755                                                   \n",
      "[15]\tvalidation-rmse:5.11580                                                   \n",
      "[16]\tvalidation-rmse:5.10096                                                   \n",
      "[17]\tvalidation-rmse:5.10646                                                   \n",
      "[18]\tvalidation-rmse:5.12074                                                   \n",
      "[19]\tvalidation-rmse:5.14144                                                   \n",
      "[20]\tvalidation-rmse:5.16062                                                   \n",
      "[21]\tvalidation-rmse:5.18202                                                   \n",
      "[22]\tvalidation-rmse:5.20160                                                   \n",
      "[23]\tvalidation-rmse:5.21794                                                   \n",
      "[24]\tvalidation-rmse:5.23814                                                   \n",
      "[25]\tvalidation-rmse:5.25737                                                   \n",
      "[26]\tvalidation-rmse:5.27600                                                   \n",
      "[27]\tvalidation-rmse:5.29624                                                   \n",
      "[28]\tvalidation-rmse:5.31438                                                   \n",
      "[29]\tvalidation-rmse:5.33752                                                   \n",
      "[30]\tvalidation-rmse:5.36132                                                   \n",
      "[31]\tvalidation-rmse:5.38499                                                   \n",
      "[32]\tvalidation-rmse:5.40679                                                   \n",
      "[33]\tvalidation-rmse:5.42258                                                   \n",
      "[34]\tvalidation-rmse:5.44244                                                   \n",
      "[35]\tvalidation-rmse:5.46095                                                   \n",
      "[36]\tvalidation-rmse:5.47313                                                   \n",
      "[37]\tvalidation-rmse:5.48813                                                   \n",
      "[38]\tvalidation-rmse:5.49862                                                   \n",
      "[39]\tvalidation-rmse:5.51242                                                   \n",
      "[40]\tvalidation-rmse:5.52938                                                   \n",
      "[41]\tvalidation-rmse:5.54235                                                   \n",
      "[42]\tvalidation-rmse:5.55069                                                   \n",
      "[43]\tvalidation-rmse:5.56446                                                   \n",
      "[44]\tvalidation-rmse:5.57214                                                   \n",
      "[45]\tvalidation-rmse:5.58160                                                   \n",
      "[46]\tvalidation-rmse:5.59332                                                   \n",
      "[47]\tvalidation-rmse:5.59999                                                   \n",
      "[48]\tvalidation-rmse:5.60780                                                   \n",
      "[49]\tvalidation-rmse:5.61492                                                   \n",
      "[50]\tvalidation-rmse:5.61920                                                   \n",
      "[51]\tvalidation-rmse:5.62773                                                   \n",
      "[52]\tvalidation-rmse:5.63306                                                   \n",
      "[53]\tvalidation-rmse:5.63723                                                   \n",
      "[54]\tvalidation-rmse:5.64405                                                   \n",
      "[55]\tvalidation-rmse:5.64943                                                   \n",
      "[56]\tvalidation-rmse:5.65258                                                   \n",
      "[57]\tvalidation-rmse:5.65526                                                   \n",
      "[58]\tvalidation-rmse:5.65915                                                   \n",
      "[59]\tvalidation-rmse:5.66282                                                   \n",
      "[60]\tvalidation-rmse:5.66742                                                   \n",
      "[61]\tvalidation-rmse:5.67092                                                   \n",
      "[62]\tvalidation-rmse:5.67395                                                   \n",
      "[63]\tvalidation-rmse:5.67586                                                   \n",
      "[64]\tvalidation-rmse:5.67870                                                   \n",
      "[65]\tvalidation-rmse:5.68155                                                   \n",
      "100%|██████████| 5/5 [00:08<00:00,  1.73s/trial, best loss: 5.3418879008786755]\n"
     ]
    },
    {
     "name": "stderr",
     "output_type": "stream",
     "text": [
      "c:\\Users\\DimiP\\miniconda3\\envs\\exp-tracking_env\\lib\\site-packages\\sklearn\\metrics\\_regression.py:492: FutureWarning: 'squared' is deprecated in version 1.4 and will be removed in 1.6. To calculate the root mean squared error, use the function'root_mean_squared_error'.\n",
      "  warnings.warn(\n",
      "\n"
     ]
    }
   ],
   "source": [
    "search_space = {\n",
    "    'max_depth': scope.int(hp.quniform('max_depth', 4, 100, 1)),\n",
    "    'learning_rate': hp.loguniform('learning_rate', -3, 0),\n",
    "    'reg_alpha': hp.loguniform('reg_alpha', -5, -1),\n",
    "    'reg_lambda': hp.loguniform('reg_lambda', -6, -1),\n",
    "    'min_child_weight': hp.loguniform('min_child_weight', -1, 3),\n",
    "    'objective': 'reg:linear',\n",
    "    'seed': 42\n",
    "}\n",
    "\n",
    "best_result = fmin(\n",
    "    fn=objective,\n",
    "    space=search_space,\n",
    "    algo=tpe.suggest,\n",
    "    max_evals=5,\n",
    "    trials=Trials()\n",
    ")"
   ]
  },
  {
   "cell_type": "code",
   "execution_count": 58,
   "id": "fc4d5283",
   "metadata": {},
   "outputs": [],
   "source": [
    "mlflow.xgboost.autolog(disable=True)"
   ]
  },
  {
   "cell_type": "code",
   "execution_count": 61,
   "id": "0e8cd729",
   "metadata": {},
   "outputs": [
    {
     "name": "stdout",
     "output_type": "stream",
     "text": [
      "[0]\tvalidation-rmse:8.72943\n",
      "[1]\tvalidation-rmse:8.15085\n",
      "[2]\tvalidation-rmse:7.66420\n",
      "[3]\tvalidation-rmse:7.26413\n",
      "[4]\tvalidation-rmse:6.94302\n",
      "[5]\tvalidation-rmse:6.69356\n",
      "[6]\tvalidation-rmse:6.49649\n",
      "[7]\tvalidation-rmse:6.34504\n"
     ]
    },
    {
     "name": "stderr",
     "output_type": "stream",
     "text": [
      "c:\\Users\\DimiP\\miniconda3\\envs\\exp-tracking_env\\lib\\site-packages\\xgboost\\core.py:160: UserWarning: [00:56:55] WARNING: C:\\buildkite-agent\\builds\\buildkite-windows-cpu-autoscaling-group-i-0b3782d1791676daf-1\\xgboost\\xgboost-ci-windows\\src\\objective\\regression_obj.cu:209: reg:linear is now deprecated in favor of reg:squarederror.\n",
      "  warnings.warn(smsg, UserWarning)\n"
     ]
    },
    {
     "name": "stdout",
     "output_type": "stream",
     "text": [
      "[8]\tvalidation-rmse:6.23496\n",
      "[9]\tvalidation-rmse:6.16636\n",
      "[10]\tvalidation-rmse:6.12810\n",
      "[11]\tvalidation-rmse:6.11084\n",
      "[12]\tvalidation-rmse:6.10613\n",
      "[13]\tvalidation-rmse:6.11979\n",
      "[14]\tvalidation-rmse:6.13913\n",
      "[15]\tvalidation-rmse:6.18047\n",
      "[16]\tvalidation-rmse:6.21927\n",
      "[17]\tvalidation-rmse:6.24609\n",
      "[18]\tvalidation-rmse:6.27578\n",
      "[19]\tvalidation-rmse:6.31496\n",
      "[20]\tvalidation-rmse:6.35809\n",
      "[21]\tvalidation-rmse:6.39829\n",
      "[22]\tvalidation-rmse:6.42866\n",
      "[23]\tvalidation-rmse:6.45779\n",
      "[24]\tvalidation-rmse:6.49667\n",
      "[25]\tvalidation-rmse:6.52002\n",
      "[26]\tvalidation-rmse:6.55800\n",
      "[27]\tvalidation-rmse:6.58013\n",
      "[28]\tvalidation-rmse:6.60116\n",
      "[29]\tvalidation-rmse:6.63457\n",
      "[30]\tvalidation-rmse:6.65322\n",
      "[31]\tvalidation-rmse:6.67188\n",
      "[32]\tvalidation-rmse:6.68594\n",
      "[33]\tvalidation-rmse:6.70283\n",
      "[34]\tvalidation-rmse:6.71955\n",
      "[35]\tvalidation-rmse:6.73514\n",
      "[36]\tvalidation-rmse:6.75069\n",
      "[37]\tvalidation-rmse:6.77267\n",
      "[38]\tvalidation-rmse:6.79163\n",
      "[39]\tvalidation-rmse:6.82132\n",
      "[40]\tvalidation-rmse:6.83214\n",
      "[41]\tvalidation-rmse:6.84788\n",
      "[42]\tvalidation-rmse:6.85887\n",
      "[43]\tvalidation-rmse:6.88305\n",
      "[44]\tvalidation-rmse:6.89172\n",
      "[45]\tvalidation-rmse:6.90976\n",
      "[46]\tvalidation-rmse:6.92773\n",
      "[47]\tvalidation-rmse:6.93263\n",
      "[48]\tvalidation-rmse:6.95083\n",
      "[49]\tvalidation-rmse:6.96230\n",
      "[50]\tvalidation-rmse:6.95997\n",
      "[51]\tvalidation-rmse:6.96495\n",
      "[52]\tvalidation-rmse:6.96915\n",
      "[53]\tvalidation-rmse:6.97331\n",
      "[54]\tvalidation-rmse:6.97610\n",
      "[55]\tvalidation-rmse:6.97844\n",
      "[56]\tvalidation-rmse:6.97979\n",
      "[57]\tvalidation-rmse:6.98371\n",
      "[58]\tvalidation-rmse:6.98565\n",
      "[59]\tvalidation-rmse:6.98795\n",
      "[60]\tvalidation-rmse:6.99312\n",
      "[61]\tvalidation-rmse:6.99488\n"
     ]
    },
    {
     "name": "stderr",
     "output_type": "stream",
     "text": [
      "c:\\Users\\DimiP\\miniconda3\\envs\\exp-tracking_env\\lib\\site-packages\\sklearn\\metrics\\_regression.py:492: FutureWarning: 'squared' is deprecated in version 1.4 and will be removed in 1.6. To calculate the root mean squared error, use the function'root_mean_squared_error'.\n",
      "  warnings.warn(\n"
     ]
    },
    {
     "ename": "FileNotFoundError",
     "evalue": "[Errno 2] No such file or directory: 'models/preprocessor.b'",
     "output_type": "error",
     "traceback": [
      "\u001b[1;31m---------------------------------------------------------------------------\u001b[0m",
      "\u001b[1;31mFileNotFoundError\u001b[0m                         Traceback (most recent call last)",
      "Cell \u001b[1;32mIn[61], line 30\u001b[0m\n\u001b[0;32m     27\u001b[0m rmse \u001b[38;5;241m=\u001b[39m mean_squared_error(y_val, y_pred, squared\u001b[38;5;241m=\u001b[39m\u001b[38;5;28;01mFalse\u001b[39;00m)\n\u001b[0;32m     28\u001b[0m mlflow\u001b[38;5;241m.\u001b[39mlog_metric(\u001b[38;5;124m\"\u001b[39m\u001b[38;5;124mrmse\u001b[39m\u001b[38;5;124m\"\u001b[39m, rmse)\n\u001b[1;32m---> 30\u001b[0m \u001b[38;5;28;01mwith\u001b[39;00m \u001b[38;5;28;43mopen\u001b[39;49m\u001b[43m(\u001b[49m\u001b[38;5;124;43m\"\u001b[39;49m\u001b[38;5;124;43mmodels/preprocessor.b\u001b[39;49m\u001b[38;5;124;43m\"\u001b[39;49m\u001b[43m,\u001b[49m\u001b[43m \u001b[49m\u001b[38;5;124;43m\"\u001b[39;49m\u001b[38;5;124;43mwb\u001b[39;49m\u001b[38;5;124;43m\"\u001b[39;49m\u001b[43m)\u001b[49m \u001b[38;5;28;01mas\u001b[39;00m f_out:\n\u001b[0;32m     31\u001b[0m     pickle\u001b[38;5;241m.\u001b[39mdump(dv, f_out)\n\u001b[0;32m     32\u001b[0m mlflow\u001b[38;5;241m.\u001b[39mlog_artifact(\u001b[38;5;124m\"\u001b[39m\u001b[38;5;124mmodels/preprocessor.b\u001b[39m\u001b[38;5;124m\"\u001b[39m, artifact_path\u001b[38;5;241m=\u001b[39m\u001b[38;5;124m\"\u001b[39m\u001b[38;5;124mpreprocessor\u001b[39m\u001b[38;5;124m\"\u001b[39m)\n",
      "File \u001b[1;32mc:\\Users\\DimiP\\miniconda3\\envs\\exp-tracking_env\\lib\\site-packages\\IPython\\core\\interactiveshell.py:310\u001b[0m, in \u001b[0;36m_modified_open\u001b[1;34m(file, *args, **kwargs)\u001b[0m\n\u001b[0;32m    303\u001b[0m \u001b[38;5;28;01mif\u001b[39;00m file \u001b[38;5;129;01min\u001b[39;00m {\u001b[38;5;241m0\u001b[39m, \u001b[38;5;241m1\u001b[39m, \u001b[38;5;241m2\u001b[39m}:\n\u001b[0;32m    304\u001b[0m     \u001b[38;5;28;01mraise\u001b[39;00m \u001b[38;5;167;01mValueError\u001b[39;00m(\n\u001b[0;32m    305\u001b[0m         \u001b[38;5;124mf\u001b[39m\u001b[38;5;124m\"\u001b[39m\u001b[38;5;124mIPython won\u001b[39m\u001b[38;5;124m'\u001b[39m\u001b[38;5;124mt let you open fd=\u001b[39m\u001b[38;5;132;01m{\u001b[39;00mfile\u001b[38;5;132;01m}\u001b[39;00m\u001b[38;5;124m by default \u001b[39m\u001b[38;5;124m\"\u001b[39m\n\u001b[0;32m    306\u001b[0m         \u001b[38;5;124m\"\u001b[39m\u001b[38;5;124mas it is likely to crash IPython. If you know what you are doing, \u001b[39m\u001b[38;5;124m\"\u001b[39m\n\u001b[0;32m    307\u001b[0m         \u001b[38;5;124m\"\u001b[39m\u001b[38;5;124myou can use builtins\u001b[39m\u001b[38;5;124m'\u001b[39m\u001b[38;5;124m open.\u001b[39m\u001b[38;5;124m\"\u001b[39m\n\u001b[0;32m    308\u001b[0m     )\n\u001b[1;32m--> 310\u001b[0m \u001b[38;5;28;01mreturn\u001b[39;00m io_open(file, \u001b[38;5;241m*\u001b[39margs, \u001b[38;5;241m*\u001b[39m\u001b[38;5;241m*\u001b[39mkwargs)\n",
      "\u001b[1;31mFileNotFoundError\u001b[0m: [Errno 2] No such file or directory: 'models/preprocessor.b'"
     ]
    }
   ],
   "source": [
    "with mlflow.start_run():\n",
    "    \n",
    "    train = xgb.DMatrix(X_train, label=y_train)\n",
    "    valid = xgb.DMatrix(X_val, label=y_val)\n",
    "\n",
    "    best_params = {\n",
    "        'learning_rate': 0.09585355369315604,\n",
    "        'max_depth': 30,\n",
    "        'min_child_weight': 1.060597050922164,\n",
    "        'objective': 'reg:linear',\n",
    "        'reg_alpha': 0.018060244040060163,\n",
    "        'reg_lambda': 0.011658731377413597,\n",
    "        'seed': 42\n",
    "    }\n",
    "\n",
    "    mlflow.log_params(best_params)\n",
    "\n",
    "    booster = xgb.train(\n",
    "        params=best_params,\n",
    "        dtrain=train,\n",
    "        num_boost_round=1000,\n",
    "        evals=[(valid, 'validation')],\n",
    "        early_stopping_rounds=50\n",
    "    )\n",
    "\n",
    "    y_pred = booster.predict(valid)\n",
    "    rmse = mean_squared_error(y_val, y_pred, squared=False)\n",
    "    mlflow.log_metric(\"rmse\", rmse)\n",
    "\n",
    "    with open(\"models/preprocessor.b\", \"wb\") as f_out:\n",
    "        pickle.dump(dv, f_out)\n",
    "    mlflow.log_artifact(\"models/preprocessor.b\", artifact_path=\"preprocessor\")\n",
    "\n",
    "    mlflow.xgboost.log_model(booster, artifact_path=\"models_mlflow\")"
   ]
  },
  {
   "cell_type": "code",
   "execution_count": null,
   "id": "c2108f4b",
   "metadata": {},
   "outputs": [],
   "source": []
  },
  {
   "cell_type": "code",
   "execution_count": 23,
   "id": "87614b82",
   "metadata": {},
   "outputs": [
    {
     "name": "stderr",
     "output_type": "stream",
     "text": [
      "/Users/cristian.martinez/miniconda3/envs/exp-tracking-env/lib/python3.9/site-packages/sklearn/svm/_base.py:1206: ConvergenceWarning: Liblinear failed to converge, increase the number of iterations.\n",
      "  warnings.warn(\n"
     ]
    }
   ],
   "source": [
    "from sklearn.ensemble import RandomForestRegressor, GradientBoostingRegressor, ExtraTreesRegressor\n",
    "from sklearn.svm import LinearSVR\n",
    "\n",
    "mlflow.sklearn.autolog()\n",
    "\n",
    "for model_class in (RandomForestRegressor, GradientBoostingRegressor, ExtraTreesRegressor, LinearSVR):\n",
    "\n",
    "    with mlflow.start_run():\n",
    "\n",
    "        mlflow.log_param(\"train-data-path\", \"./data/green_tripdata_2021-01.csv\")\n",
    "        mlflow.log_param(\"valid-data-path\", \"./data/green_tripdata_2021-02.csv\")\n",
    "        mlflow.log_artifact(\"models/preprocessor.b\", artifact_path=\"preprocessor\")\n",
    "\n",
    "        mlmodel = model_class()\n",
    "        mlmodel.fit(X_train, y_train)\n",
    "\n",
    "        y_pred = mlmodel.predict(X_val)\n",
    "        rmse = mean_squared_error(y_val, y_pred, squared=False)\n",
    "        mlflow.log_metric(\"rmse\", rmse)\n",
    "        "
   ]
  },
  {
   "cell_type": "code",
   "execution_count": null,
   "id": "6f0813c7",
   "metadata": {},
   "outputs": [],
   "source": []
  },
  {
   "cell_type": "code",
   "execution_count": null,
   "id": "4c489ec5",
   "metadata": {},
   "outputs": [],
   "source": []
  }
 ],
 "metadata": {
  "interpreter": {
   "hash": "0848c9d6c7d415ad6c477ff7ff8e98694d1a4aa96d0deee89244642e6b630036"
  },
  "kernelspec": {
   "display_name": "Python 3 (ipykernel)",
   "language": "python",
   "name": "python3"
  },
  "language_info": {
   "codemirror_mode": {
    "name": "ipython",
    "version": 3
   },
   "file_extension": ".py",
   "mimetype": "text/x-python",
   "name": "python",
   "nbconvert_exporter": "python",
   "pygments_lexer": "ipython3",
   "version": "3.9.19"
  }
 },
 "nbformat": 4,
 "nbformat_minor": 5
}
